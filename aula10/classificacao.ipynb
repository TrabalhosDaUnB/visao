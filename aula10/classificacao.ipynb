{
 "cells": [
  {
   "cell_type": "markdown",
   "metadata": {},
   "source": [
    "1° passo: extrair as características da imagens da base de treinamento"
   ]
  },
  {
   "cell_type": "markdown",
   "metadata": {},
   "source": [
    "Para cada imagem da base de dados, iremos extrair os Momentos de Hu (que são 7), e no final do vetor, colocaremos a classe que pertence a imagem"
   ]
  },
  {
   "cell_type": "raw",
   "metadata": {},
   "source": [
    "Exemplo: [2.6, 3.9, 7.1, -14.4, -20.4, -18.5, 13, 1]"
   ]
  },
  {
   "cell_type": "raw",
   "metadata": {},
   "source": [
    "Exemplo: [2.6, 3.9, 7.1, -14.4, -20.4, -18.5, 13, 2]"
   ]
  },
  {
   "cell_type": "raw",
   "metadata": {},
   "source": [
    "Exemplo: [2.6, 3.9, 7.1, -14.4, -20.4, -18.5, 13, 1]"
   ]
  },
  {
   "cell_type": "code",
   "execution_count": 1,
   "metadata": {},
   "outputs": [],
   "source": [
    "import cv2\n",
    "import numpy as np\n",
    "import matplotlib.pyplot as plt\n",
    "import os\n",
    "\n",
    "files_path = [os.path.abspath(x) for x in os.listdir('./') if x.endswith('.png')]\n",
    "\n",
    "def extrair_caracteristica(img):\n",
    "    gray = cv2.cvtColor(img, cv2.COLOR_BGR2GRAY) \n",
    "    _, imgBinaria = cv2.threshold(gray, 250, 255, cv2.THRESH_BINARY) #seleciona apenas os pixels dentro do intervalo [250,255]\n",
    "    momentos = cv2.moments(imgBinaria)\n",
    "    momentosDeHu = cv2.HuMoments(momentos)\n",
    "    feature = (-np.sign(momentosDeHu) * np.log10(np.abs(momentosDeHu)))\n",
    "    return feature\n",
    "\n",
    "\n",
    "base_teste = []\n",
    "\n",
    "#extraindo as características das imagens na base de dados\n",
    "for i in files_path:\n",
    "    diretorio, arquivo = os.path.split(i)\n",
    "    imagem = cv2.imread(arquivo)\n",
    "    carac = extrair_caracteristica(imagem)\n",
    "    classe = arquivo.split('-')\n",
    "    base_teste.append((carac, classe[0]))   "
   ]
  },
  {
   "cell_type": "code",
   "execution_count": 2,
   "metadata": {},
   "outputs": [
    {
     "name": "stdout",
     "output_type": "stream",
     "text": [
      "[(array([[  2.54496897],\n",
      "       [  5.41237509],\n",
      "       [  9.36688516],\n",
      "       [  9.68917536],\n",
      "       [ 19.9660983 ],\n",
      "       [-13.03176335],\n",
      "       [-19.22421959]]), '3'), (array([[  2.901805  ],\n",
      "       [  6.13669137],\n",
      "       [  9.26275766],\n",
      "       [  9.98309001],\n",
      "       [ 19.66622239],\n",
      "       [ 13.05503555],\n",
      "       [-19.91397104]]), '1'), (array([[  2.71583903],\n",
      "       [  5.84826526],\n",
      "       [  9.29749338],\n",
      "       [  9.90277278],\n",
      "       [-19.50476404],\n",
      "       [-12.83892137],\n",
      "       [-20.53766721]]), '3'), (array([[  2.78786451],\n",
      "       [  5.92376711],\n",
      "       [ 10.40973889],\n",
      "       [ 10.75334106],\n",
      "       [ 21.52360153],\n",
      "       [ 15.24256795],\n",
      "       [-21.45291745]]), '2'), (array([[  2.84454981],\n",
      "       [  6.2452239 ],\n",
      "       [ 11.0179522 ],\n",
      "       [ 10.96156686],\n",
      "       [ 22.00838906],\n",
      "       [ 14.10686467],\n",
      "       [-22.2694344 ]]), '2'), (array([[  2.79664963],\n",
      "       [  6.04278819],\n",
      "       [  9.72997911],\n",
      "       [ 10.77209176],\n",
      "       [ 21.1449219 ],\n",
      "       [ 13.87478825],\n",
      "       [-21.20674854]]), '2'), (array([[  2.7042533 ],\n",
      "       [  5.83841956],\n",
      "       [  9.22760311],\n",
      "       [  9.61694799],\n",
      "       [ 19.91419207],\n",
      "       [-12.95081122],\n",
      "       [-19.04312034]]), '3'), (array([[  2.68467077],\n",
      "       [  5.50517897],\n",
      "       [  8.64977188],\n",
      "       [  8.92296222],\n",
      "       [ 17.71122183],\n",
      "       [ 11.68292962],\n",
      "       [-18.74012679]]), '1'), (array([[  2.91997773],\n",
      "       [  6.19036476],\n",
      "       [  9.23169093],\n",
      "       [  9.85239902],\n",
      "       [ 19.41934306],\n",
      "       [ 12.94873762],\n",
      "       [-19.87706031]]), '1')]\n"
     ]
    }
   ],
   "source": [
    "print(base_teste)"
   ]
  },
  {
   "cell_type": "markdown",
   "metadata": {},
   "source": [
    "2° passo: calcular o vetor de característica da imagem consulta"
   ]
  },
  {
   "cell_type": "code",
   "execution_count": 3,
   "metadata": {},
   "outputs": [],
   "source": [
    "img = cv2.imread('2-1.png')\n",
    "vetor_consulta = extrair_caracteristica(img)"
   ]
  },
  {
   "cell_type": "code",
   "execution_count": 4,
   "metadata": {},
   "outputs": [
    {
     "name": "stdout",
     "output_type": "stream",
     "text": [
      "[[  2.79664963]\n",
      " [  6.04278819]\n",
      " [  9.72997911]\n",
      " [ 10.77209176]\n",
      " [ 21.1449219 ]\n",
      " [ 13.87478825]\n",
      " [-21.20674854]]\n"
     ]
    }
   ],
   "source": [
    "print(vetor_consulta)"
   ]
  },
  {
   "cell_type": "markdown",
   "metadata": {},
   "source": [
    "3° passo: definir uma função de distância. Abaixo temos a distância Euclidiana"
   ]
  },
  {
   "cell_type": "code",
   "execution_count": 5,
   "metadata": {},
   "outputs": [],
   "source": [
    "def distancia(a, b):\n",
    "    M = len(a)\n",
    "    soma = 0\n",
    "    for i in range(M):\n",
    "        soma = soma + ((a[i]-b[i])**2)\n",
    "    return np.sqrt(soma) "
   ]
  },
  {
   "cell_type": "markdown",
   "metadata": {},
   "source": [
    "4° passo: calcular a distancia do vetor_consulta com todos os vetores das imagens da base_teste"
   ]
  },
  {
   "cell_type": "markdown",
   "metadata": {},
   "source": [
    "OBSERVAÇÃO: após calcular distância, incluir a classe da imagem que foi calculada a distância"
   ]
  },
  {
   "cell_type": "code",
   "execution_count": 6,
   "metadata": {},
   "outputs": [],
   "source": [
    "#calculando a distancia do vetor de características da imagem consulta com todos\n",
    "# os vetores de características extraidos das imagens que estão na base de dados\n",
    "d = []\n",
    "\n",
    "for feat in base_teste:\n",
    "    vetor = feat[0]\n",
    "    dist = distancia(vetor, vetor_consulta)\n",
    "    d.append((dist, feat[1]))"
   ]
  },
  {
   "cell_type": "code",
   "execution_count": 7,
   "metadata": {},
   "outputs": [
    {
     "name": "stdout",
     "output_type": "stream",
     "text": [
      "[(array([27.037897]), '3'), (array([2.32174838]), '1'), (array([48.65649029]), '3'), (array([1.59733742]), '2'), (array([1.91488547]), '2'), (array([0.]), '2'), (array([26.97120339]), '3'), (array([5.25037655]), '1'), (array([2.5950679]), '1')]\n"
     ]
    }
   ],
   "source": [
    "print(d)"
   ]
  },
  {
   "cell_type": "markdown",
   "metadata": {},
   "source": [
    "5° passo: ordenar as distâncias em ordem crescente (menor para o maior)"
   ]
  },
  {
   "cell_type": "code",
   "execution_count": 8,
   "metadata": {},
   "outputs": [],
   "source": [
    "e = sorted(d)"
   ]
  },
  {
   "cell_type": "code",
   "execution_count": 9,
   "metadata": {},
   "outputs": [
    {
     "name": "stdout",
     "output_type": "stream",
     "text": [
      "[(array([0.]), '2'), (array([1.59733742]), '2'), (array([1.91488547]), '2'), (array([2.32174838]), '1'), (array([2.5950679]), '1'), (array([5.25037655]), '1'), (array([26.97120339]), '3'), (array([27.037897]), '3'), (array([48.65649029]), '3')]\n"
     ]
    }
   ],
   "source": [
    "print(e)"
   ]
  },
  {
   "cell_type": "markdown",
   "metadata": {},
   "source": [
    "6° passo: iremos contar qual é a classe que mais se repete considerando o top-k"
   ]
  },
  {
   "cell_type": "markdown",
   "metadata": {},
   "source": [
    "Neste exemplo, iremos usar k = 3, ou seja, as 3 imagens mais similares"
   ]
  },
  {
   "cell_type": "markdown",
   "metadata": {},
   "source": [
    "A classe que mais se repetir, será a classe da imagem consulta"
   ]
  },
  {
   "cell_type": "code",
   "execution_count": 10,
   "metadata": {},
   "outputs": [
    {
     "name": "stdout",
     "output_type": "stream",
     "text": [
      "2 2 2\n"
     ]
    }
   ],
   "source": [
    "k1 = e[0][1]\n",
    "k2 = e[1][1]\n",
    "k3 = e[2][1]\n",
    "print(k1, k2, k3)"
   ]
  },
  {
   "cell_type": "code",
   "execution_count": 11,
   "metadata": {},
   "outputs": [
    {
     "name": "stdout",
     "output_type": "stream",
     "text": [
      "classe final:  2\n"
     ]
    }
   ],
   "source": [
    "from statistics import mode\n",
    "a = mode([k1,k2,k3])\n",
    "print(\"classe final: \", a)"
   ]
  },
  {
   "cell_type": "markdown",
   "metadata": {},
   "source": [
    "## Código final, juntando todos os passos"
   ]
  },
  {
   "cell_type": "code",
   "execution_count": 14,
   "metadata": {},
   "outputs": [
    {
     "name": "stdout",
     "output_type": "stream",
     "text": [
      "2 2 1\n",
      "classe final:  2\n"
     ]
    }
   ],
   "source": [
    "import cv2\n",
    "import numpy as np\n",
    "import matplotlib.pyplot as plt\n",
    "import os\n",
    "from statistics import mode\n",
    "\n",
    "def distancia(a, b):\n",
    "    M = len(a)\n",
    "    soma = 0\n",
    "    for i in range(M):\n",
    "        soma = soma + ((a[i]-b[i])**2)\n",
    "    return np.sqrt(soma) \n",
    "\n",
    "def extrair_caracteristica(img):\n",
    "    gray = cv2.cvtColor(img, cv2.COLOR_BGR2GRAY) \n",
    "    _, imgBinaria = cv2.threshold(gray, 250, 255, cv2.THRESH_BINARY) #seleciona apenas os pixels dentro do intervalo [250,255]\n",
    "    momentos = cv2.moments(imgBinaria)\n",
    "    momentosDeHu = cv2.HuMoments(momentos)\n",
    "    feature = (-np.sign(momentosDeHu) * np.log10(np.abs(momentosDeHu)))\n",
    "    (contornos, tree) = cv2.findContours(imgBinaria, cv2.RETR_TREE, cv2.CHAIN_APPROX_SIMPLE)\n",
    "    x,y,w,h = cv2.boundingRect(contornos[0])\n",
    "    \n",
    "    Eixo1 = x +w\n",
    "    Eixo2 = y+h\n",
    "    \n",
    "    if(Eixo1 < Eixo2):\n",
    "        RA = Eixo1/Eixo2\n",
    "        \n",
    "    else:\n",
    "        RA = Eixo2/Eixo1\n",
    "    \n",
    "    feature = np.append(feature,RA*10)\n",
    "    return feature\n",
    "\n",
    "\n",
    "\n",
    "\n",
    "files_path = [os.path.abspath(x) for x in os.listdir('./') if x.endswith('.png')]\n",
    "\n",
    "base_teste = []\n",
    "\n",
    "#extraindo as características das imagens na base de dados\n",
    "for i in files_path:\n",
    "    diretorio, arquivo = os.path.split(i)\n",
    "    imagem = cv2.imread(arquivo)\n",
    "    carac = extrair_caracteristica(imagem)\n",
    "    classe = arquivo.split('-')\n",
    "    base_teste.append((carac, classe[0]))   \n",
    "    \n",
    "    \n",
    "img = cv2.imread('img_consulta.jpg')\n",
    "vetor_consulta = extrair_caracteristica(img)    \n",
    "    \n",
    "#calculando a distancia do vetor de características da imagem consulta com todos\n",
    "# os vetores de características extraidos das imagens que estão na base de dados\n",
    "d = []\n",
    "\n",
    "for feat in base_teste:\n",
    "    vetor = feat[0]\n",
    "    dist = distancia(vetor, vetor_consulta)\n",
    "    d.append((dist, feat[1])) \n",
    "    \n",
    "e = sorted(d)\n",
    "\n",
    "k1 = e[0][1]\n",
    "k2 = e[1][1]\n",
    "k3 = e[2][1]\n",
    "\n",
    "a = mode([k1,k2,k3])\n",
    "print(k1, k2, k3)\n",
    "print(\"classe final: \", a)\n"
   ]
  },
  {
   "cell_type": "code",
   "execution_count": null,
   "metadata": {},
   "outputs": [],
   "source": []
  },
  {
   "cell_type": "code",
   "execution_count": null,
   "metadata": {},
   "outputs": [],
   "source": []
  }
 ],
 "metadata": {
  "kernelspec": {
   "display_name": "Python 3",
   "language": "python",
   "name": "python3"
  },
  "language_info": {
   "codemirror_mode": {
    "name": "ipython",
    "version": 3
   },
   "file_extension": ".py",
   "mimetype": "text/x-python",
   "name": "python",
   "nbconvert_exporter": "python",
   "pygments_lexer": "ipython3",
   "version": "3.5.2"
  }
 },
 "nbformat": 4,
 "nbformat_minor": 2
}
