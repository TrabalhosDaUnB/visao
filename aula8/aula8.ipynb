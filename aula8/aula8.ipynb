{
 "cells": [
  {
   "cell_type": "code",
   "execution_count": 26,
   "metadata": {},
   "outputs": [],
   "source": [
    "import os\n",
    "files_path = [os.path.abspath(x) for x in os.listdir('./') if x.endswith('.jpg')]\n",
    "print(files_path)"
   ]
  },
  {
   "cell_type": "code",
   "execution_count": 24,
   "metadata": {},
   "outputs": [
    {
     "name": "stdout",
     "output_type": "stream",
     "text": [
      "Beach1.jpg\n"
     ]
    }
   ],
   "source": [
    "diretorio, arquivo = path, filename = os.path.split(files_path[0])\n",
    "print(arquivo)"
   ]
  },
  {
   "cell_type": "code",
   "execution_count": 10,
   "metadata": {},
   "outputs": [
    {
     "name": "stdout",
     "output_type": "stream",
     "text": [
      "[(0.0, 'Beach3.jpg'), (0.0056497096031385835, 'Beach3inv.jpg'), (0.22403164659806377, 'Buildings3.jpg'), (0.22409888249568438, 'Buildings3inv.jpg'), (0.30910412818380234, 'Beach1inv.jpg'), (0.31039619188927864, 'Beach1.jpg'), (0.3542248459554917, 'Buses9inv.jpg'), (0.3566272798035075, 'Buses9.jpg'), (0.3641161570758045, 'Buildings2inv.jpg'), (0.36557963358471124, 'Buildings2.jpg'), (0.36739467379972235, 'Buses10.jpg'), (0.36799880702778415, 'Buses10inv.jpg'), (0.39680406878049596, 'Beach2inv.jpg'), (0.3969371192450338, 'Beach2.jpg'), (0.4015809350074297, 'Buildings1inv.jpg'), (0.40282704321345125, 'Buildings1.jpg'), (0.4089831928945352, 'Mountains53inv.jpg'), (0.40899153330907534, 'Mountains53.jpg'), (0.43132715256375304, 'Flowers2inv.jpg'), (0.4348541054627452, 'Flowers2.jpg'), (0.4422015354846182, 'Buses3inv.jpg'), (0.44790542296410474, 'Buses3.jpg'), (0.45389915898212485, 'Mountains52inv.jpg'), (0.45425310511709643, 'Mountains52.jpg'), (0.4898392606754624, 'Horses15.jpg'), (0.48984646331252685, 'Horses15inv.jpg'), (0.5582597616052131, 'Horses14inv.jpg'), (0.5586391946784444, 'Horses14.jpg'), (0.6039097668128769, 'Horses16inv.jpg'), (0.6043574345279562, 'Horses16.jpg'), (0.6117132094275629, 'Mountains54inv.jpg'), (0.6124186546636639, 'Mountains54.jpg'), (0.6157812801024866, 'Flowers1inv.jpg'), (0.6168005523527715, 'Flowers1.jpg'), (0.6737728312744462, 'Flowers4inv.jpg'), (0.6739241890915414, 'Flowers4.jpg')]\n"
     ]
    }
   ],
   "source": [
    "import os\n",
    "import cv2\n",
    "import numpy as np\n",
    "import matplotlib.pyplot as plt\n",
    "\n",
    "files_path = [os.path.abspath(x) for x in os.listdir('./') if x.endswith('.jpg')]\n",
    "#print(files_path)\n",
    "\n",
    "\n",
    "\n",
    "\n",
    "def distancia(a, b):\n",
    "    \n",
    "    M = len(a)\n",
    "    soma = 0\n",
    "    \n",
    "    for i in range(M):\n",
    "        soma = soma + ((a[i]-b[i])**2)\n",
    "        \n",
    "    return np.sqrt(soma)\n",
    "\n",
    "\n",
    "\n",
    "\n",
    "def histograma(img):\n",
    "    \n",
    "    WB = np.zeros(256)\n",
    "    WG = np.zeros(256)\n",
    "    WR = np.zeros(256)\n",
    "    \n",
    "    B = img[:,:,0]\n",
    "    G = img[:,:,1]\n",
    "    R = img[:,:,2]\n",
    "    \n",
    "    \n",
    "    linhas, colunas, cores = img.shape\n",
    "    \n",
    "    #gerando valores do histograma\n",
    "    for i in range(linhas):\n",
    "        for j in range(colunas):\n",
    "            WB[img[i,j]] = WB[img[i,j]] + 1\n",
    "            WG[img[i,j]] = WG[img[i,j]] + 1\n",
    "            WR[img[i,j]] = WR[img[i,j]] + 1\n",
    "    \n",
    "    #normalizando valores para pegar histogramas idependente da escala da imagem tendo valores entre 0 e 1\n",
    "    for i in range(256):\n",
    "        WB[i] = WB[i]/(linhas*colunas)\n",
    "        WG[i] = WG[i]/(linhas*colunas)\n",
    "        WR[i] = WR[i]/(linhas*colunas)\n",
    "            \n",
    "    return np.append(np.append(WB,WG),WR)\n",
    "\n",
    "\n",
    "\n",
    "\n",
    "\n",
    "img = cv2.imread('Beach3.jpg')\n",
    "hist_consulta = histograma(img)\n",
    "d = []\n",
    "\n",
    "\n",
    "\n",
    "for i in files_path:\n",
    "    direct, arq = os.path.split(i)\n",
    "    imagem = cv2.imread(arq)\n",
    "    hist = histograma(imagem)\n",
    "    d.append((distancia(hist_consulta, hist),arq))\n",
    "    \n",
    "\n",
    "print(sorted(d))"
   ]
  },
  {
   "cell_type": "code",
   "execution_count": 11,
   "metadata": {},
   "outputs": [
    {
     "name": "stdout",
     "output_type": "stream",
     "text": [
      "[(0.0, 'Beach3.jpg'), (0.003917677376924122, 'Beach3inv.jpg'), (0.1269487217196572, 'Beach1inv.jpg'), (0.12748372222711046, 'Beach1.jpg'), (0.1391454045617563, 'Buildings3inv.jpg'), (0.13931044926818484, 'Buildings3.jpg'), (0.14243685460303598, 'Buses9inv.jpg'), (0.14400427347040937, 'Buses9.jpg'), (0.14651876046006096, 'Buses10.jpg'), (0.14667793766156967, 'Buses10inv.jpg'), (0.15305582614682137, 'Beach2.jpg'), (0.1530873336656941, 'Beach2inv.jpg'), (0.16671859967730318, 'Buildings1inv.jpg'), (0.16780034390907456, 'Buildings1.jpg'), (0.17510655454932147, 'Buildings2inv.jpg'), (0.1751553240921827, 'Mountains52inv.jpg'), (0.1752112365426178, 'Mountains52.jpg'), (0.17540601310258586, 'Buildings2.jpg'), (0.17670683655539252, 'Buses3inv.jpg'), (0.18053185204708247, 'Buses3.jpg'), (0.1842249588912732, 'Mountains53inv.jpg'), (0.18431981337515543, 'Mountains53.jpg'), (0.19038537153734805, 'Flowers2inv.jpg'), (0.19181361014271198, 'Flowers2.jpg'), (0.19216367286115738, 'Horses15inv.jpg'), (0.19221434233451837, 'Horses15.jpg'), (0.2062540561264345, 'Horses14inv.jpg'), (0.20660696348408644, 'Horses14.jpg'), (0.23865800917160557, 'Horses16inv.jpg'), (0.23867513241984292, 'Horses16.jpg'), (0.2518609656275221, 'Mountains54inv.jpg'), (0.25216545354867986, 'Mountains54.jpg'), (0.2676524842484743, 'Flowers1inv.jpg'), (0.26801918160423416, 'Flowers1.jpg'), (0.3569372179549263, 'Flowers4.jpg'), (0.3581698049608536, 'Flowers4inv.jpg')]\n"
     ]
    }
   ],
   "source": [
    "import os\n",
    "import cv2\n",
    "import numpy as np\n",
    "import matplotlib.pyplot as plt\n",
    "\n",
    "files_path = [os.path.abspath(x) for x in os.listdir('./') if x.endswith('.jpg')]\n",
    "\n",
    "def hist(img):\n",
    "    WB = np.zeros(256)\n",
    "    WG = np.zeros(256)\n",
    "    WR = np.zeros(256)\n",
    "    \n",
    "    lin, col, c = img.shape\n",
    "    \n",
    "    B = img[:,:,0]\n",
    "    G = img[:,:,1]\n",
    "    R = img[:,:,2]\n",
    "    \n",
    "    for i in range(lin):\n",
    "        for j in range(col):\n",
    "            WB[B[i,j]] +=1\n",
    "            WG[G[i,j]] +=1\n",
    "            WR[R[i,j]] +=1\n",
    "            \n",
    "    for i in range(256):\n",
    "        WB[i] = WB[i]/(lin*col) #normalização\n",
    "        WG[i] = WG[i]/(lin*col) #normalização\n",
    "        WR[i] = WR[i]/(lin*col) #normalização\n",
    "    return np.append(np.append(WB,WG),WR)\n",
    "\n",
    "\n",
    "\n",
    "def dist(hist_a,hist_b):#distancia euc\n",
    "    M = len(hist_a)\n",
    "    soma = 0\n",
    "    for i in range(M):\n",
    "        soma += (hist_a[i]-hist_b[i])**2\n",
    "    return np.sqrt(soma)\n",
    "\n",
    "\n",
    "img_consulta = cv2.imread('Beach3.jpg')\n",
    "hist_consulta = hist(img_consulta)\n",
    "hist_dist = []\n",
    "\n",
    "for i in files_path:\n",
    "    direct, arq = os.path.split(i)\n",
    "    imagem = cv2.imread(arq)\n",
    "    img_hist = hist(imagem)\n",
    "    hist_dist.append((dist(hist_consulta, img_hist),arq))\n",
    "    \n",
    "print(sorted(hist_dist))"
   ]
  },
  {
   "cell_type": "code",
   "execution_count": null,
   "metadata": {},
   "outputs": [],
   "source": []
  }
 ],
 "metadata": {
  "kernelspec": {
   "display_name": "Python 3",
   "language": "python",
   "name": "python3"
  },
  "language_info": {
   "codemirror_mode": {
    "name": "ipython",
    "version": 3
   },
   "file_extension": ".py",
   "mimetype": "text/x-python",
   "name": "python",
   "nbconvert_exporter": "python",
   "pygments_lexer": "ipython3",
   "version": "3.5.2"
  }
 },
 "nbformat": 4,
 "nbformat_minor": 2
}
