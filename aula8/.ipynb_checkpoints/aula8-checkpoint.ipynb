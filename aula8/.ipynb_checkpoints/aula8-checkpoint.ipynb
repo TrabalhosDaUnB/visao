{
 "cells": [
  {
   "cell_type": "code",
   "execution_count": 26,
   "metadata": {},
   "outputs": [],
   "source": [
    "import os\n",
    "files_path = [os.path.abspath(x) for x in os.listdir('./') if x.endswith('.jpg')]\n",
    "print(files_path)"
   ]
  },
  {
   "cell_type": "code",
   "execution_count": 24,
   "metadata": {},
   "outputs": [
    {
     "name": "stdout",
     "output_type": "stream",
     "text": [
      "Beach1.jpg\n"
     ]
    }
   ],
   "source": [
    "diretorio, arquivo = path, filename = os.path.split(files_path[0])\n",
    "print(arquivo)"
   ]
  },
  {
   "cell_type": "code",
   "execution_count": 2,
   "metadata": {},
   "outputs": [
    {
     "name": "stdout",
     "output_type": "stream",
     "text": [
      "['/home/alunos/Documentos/PASTAPASTA/professor/visao/aula8/Buildings1inv.jpg', '/home/alunos/Documentos/PASTAPASTA/professor/visao/aula8/Horses14.jpg', '/home/alunos/Documentos/PASTAPASTA/professor/visao/aula8/Buildings1.jpg', '/home/alunos/Documentos/PASTAPASTA/professor/visao/aula8/Beach3inv.jpg', '/home/alunos/Documentos/PASTAPASTA/professor/visao/aula8/Flowers2.jpg', '/home/alunos/Documentos/PASTAPASTA/professor/visao/aula8/Horses16inv.jpg', '/home/alunos/Documentos/PASTAPASTA/professor/visao/aula8/Horses15inv.jpg', '/home/alunos/Documentos/PASTAPASTA/professor/visao/aula8/Beach2.jpg', '/home/alunos/Documentos/PASTAPASTA/professor/visao/aula8/Beach1.jpg', '/home/alunos/Documentos/PASTAPASTA/professor/visao/aula8/Buildings3.jpg', '/home/alunos/Documentos/PASTAPASTA/professor/visao/aula8/Beach2inv.jpg', '/home/alunos/Documentos/PASTAPASTA/professor/visao/aula8/Mountains52inv.jpg', '/home/alunos/Documentos/PASTAPASTA/professor/visao/aula8/Mountains54.jpg', '/home/alunos/Documentos/PASTAPASTA/professor/visao/aula8/Buses3.jpg', '/home/alunos/Documentos/PASTAPASTA/professor/visao/aula8/Flowers4inv.jpg', '/home/alunos/Documentos/PASTAPASTA/professor/visao/aula8/Buses10inv.jpg', '/home/alunos/Documentos/PASTAPASTA/professor/visao/aula8/Horses16.jpg', '/home/alunos/Documentos/PASTAPASTA/professor/visao/aula8/Buses9.jpg', '/home/alunos/Documentos/PASTAPASTA/professor/visao/aula8/Beach3.jpg', '/home/alunos/Documentos/PASTAPASTA/professor/visao/aula8/Buildings2.jpg', '/home/alunos/Documentos/PASTAPASTA/professor/visao/aula8/Buildings2inv.jpg', '/home/alunos/Documentos/PASTAPASTA/professor/visao/aula8/Mountains54inv.jpg', '/home/alunos/Documentos/PASTAPASTA/professor/visao/aula8/Beach1inv.jpg', '/home/alunos/Documentos/PASTAPASTA/professor/visao/aula8/Flowers1inv.jpg', '/home/alunos/Documentos/PASTAPASTA/professor/visao/aula8/Flowers2inv.jpg', '/home/alunos/Documentos/PASTAPASTA/professor/visao/aula8/Buses9inv.jpg', '/home/alunos/Documentos/PASTAPASTA/professor/visao/aula8/Buses10.jpg', '/home/alunos/Documentos/PASTAPASTA/professor/visao/aula8/Buses3inv.jpg', '/home/alunos/Documentos/PASTAPASTA/professor/visao/aula8/Mountains52.jpg', '/home/alunos/Documentos/PASTAPASTA/professor/visao/aula8/Horses14inv.jpg', '/home/alunos/Documentos/PASTAPASTA/professor/visao/aula8/Buildings3inv.jpg', '/home/alunos/Documentos/PASTAPASTA/professor/visao/aula8/Mountains53.jpg', '/home/alunos/Documentos/PASTAPASTA/professor/visao/aula8/Horses15.jpg', '/home/alunos/Documentos/PASTAPASTA/professor/visao/aula8/Flowers4.jpg', '/home/alunos/Documentos/PASTAPASTA/professor/visao/aula8/Mountains53inv.jpg', '/home/alunos/Documentos/PASTAPASTA/professor/visao/aula8/Flowers1.jpg']\n"
     ]
    }
   ],
   "source": [
    "import os\n",
    "import cv2\n",
    "import numpy as np\n",
    "import matplotlib.pyplot as plt\n",
    "\n",
    "files_path = [os.path.abspath(x) for x in os.listdir('./') if x.endswith('.jpg')]\n",
    "print(files_path)\n",
    "\n",
    "for i in files_path:\n",
    "    direct, arq = os.path.split(i)\n",
    "    imagem = cv2.imread(arq)\n",
    "    nome_arquivo = arq.split('.')\n",
    "    imagemEspelhada = imagem[::-1,:,::]\n",
    "    cv2.imwrite(nome_arquivo[0]+'inv.jpg',imagemEspelhada)"
   ]
  },
  {
   "cell_type": "code",
   "execution_count": null,
   "metadata": {},
   "outputs": [],
   "source": []
  }
 ],
 "metadata": {
  "kernelspec": {
   "display_name": "Python 3",
   "language": "python",
   "name": "python3"
  },
  "language_info": {
   "codemirror_mode": {
    "name": "ipython",
    "version": 3
   },
   "file_extension": ".py",
   "mimetype": "text/x-python",
   "name": "python",
   "nbconvert_exporter": "python",
   "pygments_lexer": "ipython3",
   "version": "3.5.2"
  }
 },
 "nbformat": 4,
 "nbformat_minor": 2
}
