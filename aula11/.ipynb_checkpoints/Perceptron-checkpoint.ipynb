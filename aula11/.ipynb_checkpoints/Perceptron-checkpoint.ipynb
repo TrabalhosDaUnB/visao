{
 "cells": [
  {
   "cell_type": "code",
   "execution_count": 1,
   "metadata": {},
   "outputs": [
    {
     "name": "stdout",
     "output_type": "stream",
     "text": [
      "pesos:  [[0.44316219 0.40445271]]\n",
      "bias:  0.3970902743769722\n",
      "epoca:  0\n"
     ]
    },
    {
     "ename": "NameError",
     "evalue": "name 'ativacao' is not defined",
     "output_type": "error",
     "traceback": [
      "\u001b[0;31m---------------------------------------------------------------------------\u001b[0m",
      "\u001b[0;31mNameError\u001b[0m                                 Traceback (most recent call last)",
      "\u001b[0;32m<ipython-input-1-9605047b11f0>\u001b[0m in \u001b[0;36m<module>\u001b[0;34m\u001b[0m\n\u001b[1;32m     44\u001b[0m     \u001b[0mprint\u001b[0m\u001b[0;34m(\u001b[0m\u001b[0;34m\"epoca: \"\u001b[0m\u001b[0;34m,\u001b[0m \u001b[0mepoca\u001b[0m\u001b[0;34m)\u001b[0m\u001b[0;34m\u001b[0m\u001b[0m\n\u001b[1;32m     45\u001b[0m     \u001b[0;32mfor\u001b[0m \u001b[0mi\u001b[0m \u001b[0;32min\u001b[0m \u001b[0mrange\u001b[0m\u001b[0;34m(\u001b[0m\u001b[0mqtdeAmostras\u001b[0m\u001b[0;34m)\u001b[0m\u001b[0;34m:\u001b[0m\u001b[0;34m\u001b[0m\u001b[0m\n\u001b[0;32m---> 46\u001b[0;31m         \u001b[0msaidaObtida\u001b[0m \u001b[0;34m=\u001b[0m \u001b[0mc\u001b[0m\u001b[0;34m.\u001b[0m\u001b[0msaida\u001b[0m\u001b[0;34m(\u001b[0m\u001b[0mX\u001b[0m\u001b[0;34m[\u001b[0m\u001b[0mi\u001b[0m\u001b[0;34m]\u001b[0m\u001b[0;34m)\u001b[0m\u001b[0;34m\u001b[0m\u001b[0m\n\u001b[0m\u001b[1;32m     47\u001b[0m         \u001b[0;32mif\u001b[0m\u001b[0;34m(\u001b[0m\u001b[0msaidaObtida\u001b[0m \u001b[0;34m!=\u001b[0m \u001b[0mY\u001b[0m\u001b[0;34m[\u001b[0m\u001b[0mi\u001b[0m\u001b[0;34m]\u001b[0m\u001b[0;34m)\u001b[0m\u001b[0;34m:\u001b[0m \u001b[0;31m#neuronio errou a classificação\u001b[0m\u001b[0;34m\u001b[0m\u001b[0m\n\u001b[1;32m     48\u001b[0m             \u001b[0mc\u001b[0m\u001b[0;34m.\u001b[0m\u001b[0matualizarPesos\u001b[0m\u001b[0;34m(\u001b[0m\u001b[0mX\u001b[0m\u001b[0;34m[\u001b[0m\u001b[0mi\u001b[0m\u001b[0;34m]\u001b[0m\u001b[0;34m,\u001b[0m \u001b[0mY\u001b[0m\u001b[0;34m[\u001b[0m\u001b[0mi\u001b[0m\u001b[0;34m]\u001b[0m\u001b[0;34m)\u001b[0m \u001b[0;31m#vamos então atualizar os pesos\u001b[0m\u001b[0;34m\u001b[0m\u001b[0m\n",
      "\u001b[0;32m<ipython-input-1-9605047b11f0>\u001b[0m in \u001b[0;36msaida\u001b[0;34m(self, entrada)\u001b[0m\n\u001b[1;32m     18\u001b[0m     \u001b[0;32mdef\u001b[0m \u001b[0msaida\u001b[0m\u001b[0;34m(\u001b[0m\u001b[0mself\u001b[0m\u001b[0;34m,\u001b[0m \u001b[0mentrada\u001b[0m\u001b[0;34m)\u001b[0m\u001b[0;34m:\u001b[0m\u001b[0;34m\u001b[0m\u001b[0m\n\u001b[1;32m     19\u001b[0m         \u001b[0msoma\u001b[0m \u001b[0;34m=\u001b[0m \u001b[0mnp\u001b[0m\u001b[0;34m.\u001b[0m\u001b[0msum\u001b[0m\u001b[0;34m(\u001b[0m\u001b[0mentrada\u001b[0m\u001b[0;34m*\u001b[0m\u001b[0mself\u001b[0m\u001b[0;34m.\u001b[0m\u001b[0mpesos\u001b[0m\u001b[0;34m)\u001b[0m\u001b[0;34m+\u001b[0m\u001b[0mself\u001b[0m\u001b[0;34m.\u001b[0m\u001b[0mpesoBias\u001b[0m\u001b[0;34m\u001b[0m\u001b[0m\n\u001b[0;32m---> 20\u001b[0;31m         \u001b[0;32mreturn\u001b[0m \u001b[0mativacao\u001b[0m\u001b[0;34m(\u001b[0m\u001b[0mfloat\u001b[0m\u001b[0;34m(\u001b[0m\u001b[0msoma\u001b[0m\u001b[0;34m)\u001b[0m\u001b[0;34m)\u001b[0m\u001b[0;34m\u001b[0m\u001b[0m\n\u001b[0m\u001b[1;32m     21\u001b[0m \u001b[0;34m\u001b[0m\u001b[0m\n\u001b[1;32m     22\u001b[0m     \u001b[0;32mdef\u001b[0m \u001b[0matualizarPesos\u001b[0m\u001b[0;34m(\u001b[0m\u001b[0mself\u001b[0m\u001b[0;34m,\u001b[0m \u001b[0mentrada\u001b[0m\u001b[0;34m,\u001b[0m \u001b[0msaidaEsperada\u001b[0m\u001b[0;34m)\u001b[0m\u001b[0;34m:\u001b[0m\u001b[0;34m\u001b[0m\u001b[0m\n",
      "\u001b[0;31mNameError\u001b[0m: name 'ativacao' is not defined"
     ]
    }
   ],
   "source": [
    "import numpy as np\n",
    "\n",
    "class Neuronio:\n",
    "    \n",
    "    def __init__(self, qtdeEntradas, taxaAprendizado=0.2):\n",
    "        self.pesos = np.random.rand(1, qtdeEntradas)\n",
    "        self.pesoBias = np.random.random()\n",
    "        self.taxaAprendizado = taxaAprendizado\n",
    "    \n",
    "    def ativacao(x):\n",
    "        return 1 if (x >= 0) else 0 #ReLu\n",
    "        #return 1.0 / (1.0 + np.exp(-x)) #sigmoid\n",
    "    \n",
    "    def derivada(self, x):\n",
    "        return x #derivada ReLu\n",
    "        #return x * (1.0 - x) #derivada sigmoid\n",
    "\n",
    "    def saida(self, entrada):\n",
    "        soma = np.sum(entrada*self.pesos)+self.pesoBias\n",
    "        return ativacao(float(soma))\n",
    "    \n",
    "    def atualizarPesos(self, entrada, saidaEsperada):\n",
    "        erro = saidaEsperada-self.saida(entrada)\n",
    "        self.pesos +=  (self.taxaAprendizado * erro * self.derivada(entrada))\n",
    "        self.pesoBias +=  (self.taxaAprendizado * erro)\n",
    "        \n",
    "    def imprimirPesos(self):\n",
    "        print (\"pesos: \", self.pesos)\n",
    "        print (\"bias: \", self.pesoBias)    \n",
    "\n",
    "\n",
    "X = np.array([[0,0],[0,1],[1,0],[1,1]], dtype=float)\n",
    "Y = np.array([0,0,0,1], dtype=int)\n",
    "qtdeAmostras = Y.shape[0]\n",
    "\n",
    "\n",
    "c = Neuronio(2)\n",
    "\n",
    "c.imprimirPesos()\n",
    "\n",
    "\n",
    "\n",
    "for epoca in range(10):\n",
    "    print(\"epoca: \", epoca)\n",
    "    for i in range(qtdeAmostras):\n",
    "        saidaObtida = c.saida(X[i])\n",
    "        if(saidaObtida != Y[i]): #neuronio errou a classificação\n",
    "            c.atualizarPesos(X[i], Y[i]) #vamos então atualizar os pesos\n",
    "        \n",
    "print(c.saida([0,0]))\n",
    "print(c.saida([0,1]))\n",
    "print(c.saida([1,0]))\n",
    "print(c.saida([1,1]))\n",
    "c.imprimirPesos()    "
   ]
  },
  {
   "cell_type": "code",
   "execution_count": null,
   "metadata": {},
   "outputs": [],
   "source": []
  },
  {
   "cell_type": "code",
   "execution_count": null,
   "metadata": {},
   "outputs": [],
   "source": []
  }
 ],
 "metadata": {
  "kernelspec": {
   "display_name": "Python 3",
   "language": "python",
   "name": "python3"
  },
  "language_info": {
   "codemirror_mode": {
    "name": "ipython",
    "version": 3
   },
   "file_extension": ".py",
   "mimetype": "text/x-python",
   "name": "python",
   "nbconvert_exporter": "python",
   "pygments_lexer": "ipython3",
   "version": "3.5.2"
  }
 },
 "nbformat": 4,
 "nbformat_minor": 2
}
