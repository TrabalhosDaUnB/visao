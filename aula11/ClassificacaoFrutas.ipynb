{
 "cells": [
  {
   "cell_type": "code",
   "execution_count": 4,
   "metadata": {},
   "outputs": [
    {
     "name": "stdout",
     "output_type": "stream",
     "text": [
      "1 1 1\n",
      "classe final:  1\n"
     ]
    }
   ],
   "source": [
    "import cv2\n",
    "import numpy as np\n",
    "import matplotlib.pyplot as plt\n",
    "import os\n",
    "from statistics import mode\n",
    "\n",
    "def distancia(a, b):\n",
    "    M = len(a)\n",
    "    soma = 0\n",
    "    for i in range(M):\n",
    "        soma = soma + ((a[i]-b[i])**2)\n",
    "    return np.sqrt(soma) \n",
    "\n",
    "def extrair_caracteristica(img):\n",
    "    \n",
    "    qtdeVerde = 0\n",
    "    qtdeAzul = 0\n",
    "    qtdeVermelho = 0\n",
    "    \n",
    "    linhas, colunas, cores = img.shape\n",
    "    \n",
    "    \n",
    "    for i in range(linhas):\n",
    "        for j in range(colunas):\n",
    "            if(img[i,j,1] > img[i,j,0] and img[i,j,1] > img[i,j,2]):\n",
    "                    qtdeVerde += 1\n",
    "            if(img[i,j,2] > img[i,j,0] and img[i,j,2] > img[i,j,1]):\n",
    "                    qtdeVermelho+=1\n",
    "            if(img[i,j,0] > img[i,j,1] and img[i,j,0] > img[i,j,2]):\n",
    "                    qtdeAzul +=1\n",
    "                    \n",
    "    \n",
    "    qtdeVerde2 = qtdeVerde/(qtdeVerde+qtdeAzul+qtdeVermelho)\n",
    "    qtdeAzul2 = qtdeAzul/(qtdeVerde+qtdeAzul+qtdeVermelho)\n",
    "    qtdeVermelho2 = qtdeVermelho/(qtdeVerde+qtdeAzul+qtdeVermelho)\n",
    "    \n",
    "    return np.append(np.append(qtdeVerde2, qtdeVermelho2), qtdeAzul2)\n",
    "    \n",
    "\n",
    "files_path = [os.path.abspath(x) for x in os.listdir('./') if x.endswith('.jpg')]\n",
    "\n",
    "base_teste = []\n",
    "\n",
    "#extraindo as características das imagens na base de dados\n",
    "for i in files_path:\n",
    "    diretorio, arquivo = os.path.split(i)\n",
    "    imagem = cv2.imread(arquivo)\n",
    "    carac = extrair_caracteristica(imagem)\n",
    "    classe = arquivo.split('-')\n",
    "    base_teste.append((carac, classe[0]))   \n",
    "    \n",
    "    \n",
    "img = cv2.imread('1-2.jpg')\n",
    "vetor_consulta = extrair_caracteristica(img)    \n",
    "    \n",
    "#calculando a distancia do vetor de características da imagem consulta com todos\n",
    "# os vetores de características extraidos das imagens que estão na base de dados\n",
    "d = []\n",
    "\n",
    "for feat in base_teste:\n",
    "    vetor = feat[0]\n",
    "    dist = distancia(vetor, vetor_consulta)\n",
    "    d.append((dist, feat[1])) \n",
    "    \n",
    "e = sorted(d)\n",
    "\n",
    "k1 = e[0][1]\n",
    "k2 = e[1][1]\n",
    "k3 = e[2][1]\n",
    "k4 = e[3][1]\n",
    "print(k1, k2, k3)\n",
    "\n",
    "a = mode([k1,k2,k3, k1])\n",
    "print(\"classe final: \", a)"
   ]
  },
  {
   "cell_type": "code",
   "execution_count": null,
   "metadata": {},
   "outputs": [],
   "source": []
  }
 ],
 "metadata": {
  "kernelspec": {
   "display_name": "Python 3",
   "language": "python",
   "name": "python3"
  },
  "language_info": {
   "codemirror_mode": {
    "name": "ipython",
    "version": 3
   },
   "file_extension": ".py",
   "mimetype": "text/x-python",
   "name": "python",
   "nbconvert_exporter": "python",
   "pygments_lexer": "ipython3",
   "version": "3.5.2"
  }
 },
 "nbformat": 4,
 "nbformat_minor": 2
}
